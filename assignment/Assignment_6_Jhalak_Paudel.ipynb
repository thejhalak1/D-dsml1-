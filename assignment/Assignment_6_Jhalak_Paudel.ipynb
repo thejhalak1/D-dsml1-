{
 "cells": [
  {
   "metadata": {},
   "cell_type": "markdown",
   "source": "1. Write a program display “Hello World!”",
   "id": "f29199832112a047"
  },
  {
   "metadata": {
    "ExecuteTime": {
     "end_time": "2025-02-03T04:33:52.315198Z",
     "start_time": "2025-02-03T04:33:52.296466Z"
    }
   },
   "cell_type": "code",
   "source": [
    "from msilib.schema import MsiDigitalSignature\n",
    "from random import random, sample\n",
    "\n",
    "from assignment.Assignment_3_Jhalak_Paudel import length\n",
    "\n",
    "my_first_code = \"Hello World\"\n",
    "print(my_first_code)"
   ],
   "id": "b1076576699ea95b",
   "outputs": [
    {
     "name": "stdout",
     "output_type": "stream",
     "text": [
      "Hello World\n"
     ]
    }
   ],
   "execution_count": 1
  },
  {
   "metadata": {},
   "cell_type": "markdown",
   "source": [
    "2. Write a program to find sum of two numbers. Use input() function to take input from the\n",
    "user."
   ],
   "id": "97ebeff4ea549307"
  },
  {
   "metadata": {
    "ExecuteTime": {
     "end_time": "2025-02-03T04:45:40.879832Z",
     "start_time": "2025-02-03T04:45:30.382551Z"
    }
   },
   "cell_type": "code",
   "source": [
    "num1 = int(input(\"Enter a number: \"))\n",
    "num2 = int(input(\"Enter another number: \"))\n",
    "sum = num1 + num2\n",
    "print(sum)"
   ],
   "id": "cf5916ec8896322c",
   "outputs": [
    {
     "name": "stdout",
     "output_type": "stream",
     "text": [
      "11\n"
     ]
    }
   ],
   "execution_count": 3
  },
  {
   "metadata": {},
   "cell_type": "markdown",
   "source": [
    "3 Write a program to calculate discount on the basis of following assumption:\n",
    "a) If purchased amount is greater than or equal to 1000, discount is 5%"
   ],
   "id": "4691699819cea547"
  },
  {
   "metadata": {
    "ExecuteTime": {
     "end_time": "2025-02-03T04:56:06.751994Z",
     "start_time": "2025-02-03T04:56:06.736308Z"
    }
   },
   "cell_type": "code",
   "source": [
    "def purchase_amount(price):\n",
    "    if price > 1000:\n",
    "        discount = 0.15 * price\n",
    "        return discount\n",
    "    else:\n",
    "        return \"No discount\"\n",
    "amount = 1200\n",
    "print(purchase_amount(amount))\n"
   ],
   "id": "4153606326b402a8",
   "outputs": [
    {
     "name": "stdout",
     "output_type": "stream",
     "text": [
      "180.0\n"
     ]
    }
   ],
   "execution_count": 7
  },
  {
   "metadata": {},
   "cell_type": "markdown",
   "source": [
    "4 Write a program to calculate discount on the basis of following assumption:\n",
    "    a) If purchased amount is greater than or equal to 1000, discount is 5%\n",
    "    b) If purchased amount is less than 1000, discount is 3%"
   ],
   "id": "94ddf565639c6669"
  },
  {
   "metadata": {
    "ExecuteTime": {
     "end_time": "2025-02-03T05:20:32.310109Z",
     "start_time": "2025-02-03T05:20:28.235030Z"
    }
   },
   "cell_type": "code",
   "source": [
    "def purchase_amount2(price):\n",
    "    if price > 1000:\n",
    "        discount = 0.15 * price\n",
    "        return discount\n",
    "    else:\n",
    "        discount = 0.03 * price\n",
    "        return discount\n",
    "price = int(input(\"Enter a number: \"))\n",
    "print(purchase_amount2(price))\n"
   ],
   "id": "d441aec547ea72b",
   "outputs": [
    {
     "name": "stdout",
     "output_type": "stream",
     "text": [
      "6.0\n"
     ]
    }
   ],
   "execution_count": 17
  },
  {
   "metadata": {},
   "cell_type": "markdown",
   "source": [
    "5 Write a program to calculate discount on the basis of following assumption:\n",
    "a) If purchased amount is greater than or equal to 5000, discount is 10%\n",
    "b) If purchased amount is greater than or equal to 4000 and less than 5000, discount is 7%\n",
    "c) If purchased amount is greater than or equal to 3000 and less than 4000, discount is 5%\n",
    "d) If purchased amount is greater than or equal to 2000 and less than 3000, discount is 3%\n",
    "e) If purchased amount is less than 2000, discount is 2%"
   ],
   "id": "443032db11211f24"
  },
  {
   "metadata": {
    "ExecuteTime": {
     "end_time": "2025-02-03T05:29:05.793299Z",
     "start_time": "2025-02-03T05:29:01.281132Z"
    }
   },
   "cell_type": "code",
   "source": [
    "def purchase_amount2(price):\n",
    "    if price >= 5000:\n",
    "        discount = 0.10 * price\n",
    "        return discount\n",
    "    elif 5000> price >= 4000:\n",
    "        discount = 0.07 * price\n",
    "        return discount\n",
    "    elif 4000> price >= 3000:\n",
    "        discount = 0.05 * price\n",
    "        return discount\n",
    "    elif 3000 > price >= 2000:\n",
    "        discount = 0.03 * price\n",
    "        return discount\n",
    "    else:\n",
    "        discount = 0.02 * price\n",
    "        return discount\n",
    "price = int(input(\"Enter a number: \"))\n",
    "print(purchase_amount2(price))\n"
   ],
   "id": "e236a427f347be32",
   "outputs": [
    {
     "name": "stdout",
     "output_type": "stream",
     "text": [
      "60.0\n"
     ]
    }
   ],
   "execution_count": 19
  },
  {
   "metadata": {},
   "cell_type": "markdown",
   "source": [
    "6 Write a program to calculate the simple interest on the basis of following assumption:\n",
    "a) If balance is greater than 99999, interest is 7 %\n",
    "b) If balance is greater than or equal to 50000 and less than 100000 interest is 5 %\n",
    "c) If balance is less than 50000, interest is 3%"
   ],
   "id": "88d63f2fa9f0f72a"
  },
  {
   "metadata": {
    "ExecuteTime": {
     "end_time": "2025-02-03T06:26:11.822154Z",
     "start_time": "2025-02-03T06:26:08.072366Z"
    }
   },
   "cell_type": "code",
   "source": [
    "def simple_interest(amount):\n",
    "    time = 1\n",
    "    if amount > 9999:\n",
    "        interest = amount*time*7/100\n",
    "        return f\"The interest is {interest} per year\"\n",
    "    elif 10000< amount >=5000:\n",
    "        interest = amount*time*5/100\n",
    "        return f\"The interest is {interest} per year\"\n",
    "    else:\n",
    "        interest = amount*3/100\n",
    "        return f\"The interest is {interest} per year\"\n",
    "price = int(input(\"Enter a number: \"))\n",
    "print(simple_interest(price))\n"
   ],
   "id": "c962652e89c3cce0",
   "outputs": [
    {
     "name": "stdout",
     "output_type": "stream",
     "text": [
      "The interest is 700.0 per year\n"
     ]
    }
   ],
   "execution_count": 24
  },
  {
   "metadata": {},
   "cell_type": "markdown",
   "source": "7 Write a program to test whether a number is even or odd",
   "id": "786f54c0b7a1ba96"
  },
  {
   "metadata": {
    "ExecuteTime": {
     "end_time": "2025-02-03T07:12:47.161621Z",
     "start_time": "2025-02-03T07:12:43.322435Z"
    }
   },
   "cell_type": "code",
   "source": [
    "def even_odd(num):\n",
    "   if num > 0:\n",
    "       if num % 2 == 0:\n",
    "           return \"Even\"\n",
    "       else:\n",
    "            return \"Odd\"\n",
    "num = int(input(\"Enter a number: \"))\n",
    "print(even_odd(num))"
   ],
   "id": "bf15881b23ecf47e",
   "outputs": [
    {
     "name": "stdout",
     "output_type": "stream",
     "text": [
      "Odd\n"
     ]
    }
   ],
   "execution_count": 27
  },
  {
   "metadata": {},
   "cell_type": "markdown",
   "source": [
    "8 Admission to a professional course is subject to the following conditions:\n",
    "a) Marks in mathematics >=60\n",
    "b) Marks in physics >=50\n",
    "c) Marks in chemistry >=40\n",
    "d) Total in all three subjects >=200\n",
    "Or\n",
    "Total in mathematics and physics>=150\n",
    "Given the marks in three subjects, write a program to process the applications to list eligible\n",
    "candidates."
   ],
   "id": "ddb1a1527bd9ca24"
  },
  {
   "metadata": {
    "ExecuteTime": {
     "end_time": "2025-02-03T10:19:35.395291Z",
     "start_time": "2025-02-03T10:19:26.045748Z"
    }
   },
   "cell_type": "code",
   "source": [
    "def eligible_admission(math, physics, chemistry):\n",
    "    if math >= 60 and chemistry >= 40 and physics >= 50:\n",
    "        return 'He/she is eligible to study the professional course'\n",
    "    elif math + physics + chemistry >= 200:\n",
    "        return 'He/she is eligible to study the professional course'\n",
    "    elif math + physics >= 150:\n",
    "        return 'He/she is eligible to study the professional course'\n",
    "    else:\n",
    "        return 'Is not eligible study the professional course'\n",
    "\n",
    "math = int(input(\"Enter Math marks: \"))\n",
    "physics = int(input(\"Enter Physics marks: \"))\n",
    "chemistry = int(input(\"Enter Chemistry marks: \"))\n",
    "\n",
    "print(eligible_admission(math, physics, chemistry))\n",
    "\n",
    "\n"
   ],
   "id": "d23069f812c9517c",
   "outputs": [
    {
     "name": "stdout",
     "output_type": "stream",
     "text": [
      "cannot study the professional course\n"
     ]
    }
   ],
   "execution_count": 2
  },
  {
   "metadata": {},
   "cell_type": "code",
   "outputs": [],
   "execution_count": null,
   "source": "",
   "id": "9b8faba0671da053"
  },
  {
   "metadata": {},
   "cell_type": "markdown",
   "source": [
    "9 The rates of tax on gross salary are as shown below:\n",
    "Income Tax\n",
    "Less than 10,000 Nill\n",
    "Rs. 10,000 to 19,999 10%\n",
    "Rs. 20,000 to 39,999 15%\n",
    "Rs. 40,000 to above 20%\n",
    "Write a program to compute the net salary after deducting the tax for the given information\n",
    "and print the same."
   ],
   "id": "ab99cb56b5cc7ba2"
  },
  {
   "metadata": {
    "ExecuteTime": {
     "end_time": "2025-02-03T10:30:48.938164Z",
     "start_time": "2025-02-03T10:30:44.311838Z"
    }
   },
   "cell_type": "code",
   "source": [
    "def tax_scheme(salary):\n",
    "    if salary < 10000:\n",
    "        tax_a = 0\n",
    "    elif 10000 < salary >= 19999:\n",
    "        tax_a = salary * 0.10\n",
    "    elif 20000 < salary >= 39999:\n",
    "        tax_a = salary * 0.15\n",
    "    elif salary >= 40000:\n",
    "        tax_a = salary * 0.20\n",
    "    total_salary = salary- tax_a\n",
    "    return f\"Total salary is {total_salary}\"\n",
    "num = int(input(\"Enter a salary: \"))\n",
    "print(tax_scheme(num))\n",
    "\n"
   ],
   "id": "dceab5746307a382",
   "outputs": [
    {
     "name": "stdout",
     "output_type": "stream",
     "text": [
      "Total salary is 22500.0\n"
     ]
    }
   ],
   "execution_count": 7
  },
  {
   "metadata": {},
   "cell_type": "code",
   "outputs": [],
   "execution_count": null,
   "source": "",
   "id": "33895bc7012ae15b"
  },
  {
   "metadata": {},
   "cell_type": "markdown",
   "source": "10 Write a program to check whether a year entered is leap or not.\n",
   "id": "5caf34da7c187ff9"
  },
  {
   "metadata": {
    "ExecuteTime": {
     "end_time": "2025-02-03T10:36:25.036519Z",
     "start_time": "2025-02-03T10:36:25.025697Z"
    }
   },
   "cell_type": "code",
   "source": [
    "def leap_year(given_year):\n",
    "    if year % 4 == 0:\n",
    "        return f\" {year} is leap year\"\n",
    "    else:\n",
    "        return f\" {year} is not leap year\"\n",
    "year = int(2024)\n",
    "print(leap_year(year))"
   ],
   "id": "eeda8a71971acedb",
   "outputs": [
    {
     "name": "stdout",
     "output_type": "stream",
     "text": [
      " 2024 is leap year\n"
     ]
    }
   ],
   "execution_count": 11
  },
  {
   "metadata": {},
   "cell_type": "code",
   "outputs": [],
   "execution_count": null,
   "source": "",
   "id": "99dd843c9d02118a"
  },
  {
   "metadata": {},
   "cell_type": "markdown",
   "source": "11  Write a program to display “MDS” 10 times.\n",
   "id": "2bfc98b725cf7be2"
  },
  {
   "metadata": {
    "ExecuteTime": {
     "end_time": "2025-02-03T12:18:52.103219Z",
     "start_time": "2025-02-03T12:18:52.092663Z"
    }
   },
   "cell_type": "code",
   "source": [
    "# def fun_append(string):\n",
    "#     result = string *10\n",
    "#     return result.strip().split(\" \")\n",
    "# string ='MDS'\n",
    "# print(fun_append(string))\n",
    "\n",
    "def fun_append1(string):\n",
    "    return [string] *10\n",
    "string ='MDS'\n",
    "print(fun_append1(string))\n",
    "for value in string:\n",
    "    print(fun_append1(value))"
   ],
   "id": "8f6b153713097d81",
   "outputs": [
    {
     "name": "stdout",
     "output_type": "stream",
     "text": [
      "['MDS', 'MDS', 'MDS', 'MDS', 'MDS', 'MDS', 'MDS', 'MDS', 'MDS', 'MDS']\n",
      "['M', 'M', 'M', 'M', 'M', 'M', 'M', 'M', 'M', 'M']\n",
      "['D', 'D', 'D', 'D', 'D', 'D', 'D', 'D', 'D', 'D']\n",
      "['S', 'S', 'S', 'S', 'S', 'S', 'S', 'S', 'S', 'S']\n"
     ]
    }
   ],
   "execution_count": 14
  },
  {
   "metadata": {},
   "cell_type": "markdown",
   "source": "12 Write a program to find sum and average of 10 numbers stored in a list.",
   "id": "7e8e356dfffe6121"
  },
  {
   "metadata": {
    "ExecuteTime": {
     "end_time": "2025-02-03T12:45:23.273585Z",
     "start_time": "2025-02-03T12:45:23.264427Z"
    }
   },
   "cell_type": "code",
   "source": [
    "import random\n",
    "import math\n",
    "def fun_add(list):\n",
    "    total_sum = 0\n",
    "    for value in list1:\n",
    "        total_sum += value\n",
    "    mean = total_sum/len(list)\n",
    "    return f\"Total sum: {total_sum} | Mean: {mean}\"\n",
    "list1 = random.sample(range(0,100),10)\n",
    "print(fun_add(list1))\n",
    "print(list1)\n"
   ],
   "id": "485f5d53fed21684",
   "outputs": [
    {
     "name": "stdout",
     "output_type": "stream",
     "text": [
      "Total sum: 509 | mean: 50.9\n",
      "[56, 90, 23, 24, 64, 94, 72, 8, 69, 9]\n"
     ]
    }
   ],
   "execution_count": 28
  },
  {
   "metadata": {},
   "cell_type": "code",
   "outputs": [],
   "execution_count": null,
   "source": "",
   "id": "646041fc51cd08fd"
  },
  {
   "metadata": {},
   "cell_type": "markdown",
   "source": "13 Write a program to display prime numbers up to 100\n",
   "id": "be8b4f2dde5adafd"
  },
  {
   "metadata": {
    "ExecuteTime": {
     "end_time": "2025-02-03T13:25:48.199797Z",
     "start_time": "2025-02-03T13:25:48.190429Z"
    }
   },
   "cell_type": "code",
   "source": [
    "def is_prime(num):\n",
    "    if num < 2:\n",
    "        return False\n",
    "    for i in range(2, num):\n",
    "        if num % i == 0:\n",
    "            return False\n",
    "    return True\n",
    "list2 = list(range(2, 101))\n",
    "prime_numbers = [num for num in list2 if is_prime(num)]\n",
    "print(f\"Prime numbers: {prime_numbers}\")\n"
   ],
   "id": "ef3fac737e9a29f2",
   "outputs": [
    {
     "name": "stdout",
     "output_type": "stream",
     "text": [
      "Prime numbers: [2, 3, 5, 7, 11, 13, 17, 19, 23, 29, 31, 37, 41, 43, 47, 53, 59, 61, 67, 71, 73, 79, 83, 89, 97]\n"
     ]
    }
   ],
   "execution_count": 36
  },
  {
   "metadata": {},
   "cell_type": "markdown",
   "source": "14 Write a program to find sum of digits of a number\n",
   "id": "9b9abbd1da9c3d36"
  },
  {
   "metadata": {
    "ExecuteTime": {
     "end_time": "2025-02-03T13:39:11.993497Z",
     "start_time": "2025-02-03T13:39:09.044198Z"
    }
   },
   "cell_type": "code",
   "source": [
    "def sum_num(number):\n",
    "    number = str(number)\n",
    "    total = 0\n",
    "    for i in number:\n",
    "        total += int(i)\n",
    "    return f\"The sum is: {total}\"\n",
    "num = int(input(\"Enter a number: \"))\n",
    "print(f'Enter a number: {num}')\n",
    "print(sum_num(num))\n"
   ],
   "id": "cd325bd0105a236f",
   "outputs": [
    {
     "name": "stdout",
     "output_type": "stream",
     "text": [
      "Enter a number: 1234\n",
      "The sum is: 10\n"
     ]
    }
   ],
   "execution_count": 45
  },
  {
   "metadata": {},
   "cell_type": "markdown",
   "source": "15 Write a program to check whether a number is palindrome or not\n",
   "id": "ac1529cfd6d73769"
  },
  {
   "metadata": {
    "ExecuteTime": {
     "end_time": "2025-02-03T13:42:52.952181Z",
     "start_time": "2025-02-03T13:42:49.906846Z"
    }
   },
   "cell_type": "code",
   "source": [
    "def palindrome(num):\n",
    "    num = str(num)\n",
    "    if num == num [::-1]:\n",
    "        return f\"The number: {num} is palindrome\"\n",
    "    else:\n",
    "        return f\"The number: {num} is not palindrome\"\n",
    "num = int(input(\"Enter a number: \"))\n",
    "print(palindrome(num))\n",
    "\n"
   ],
   "id": "78c8e404b74a842",
   "outputs": [
    {
     "name": "stdout",
     "output_type": "stream",
     "text": [
      "The number: 222 is palindrome\n"
     ]
    }
   ],
   "execution_count": 48
  },
  {
   "metadata": {},
   "cell_type": "markdown",
   "source": "16 Write a program to check if a number is Armstrong Number or not",
   "id": "6cacbb6b2121c9ec"
  },
  {
   "metadata": {
    "ExecuteTime": {
     "end_time": "2025-02-06T04:10:10.102820Z",
     "start_time": "2025-02-06T04:10:06.417597Z"
    }
   },
   "cell_type": "code",
   "source": [
    "import random\n",
    "def armstrong(num):\n",
    "    number = str(num)\n",
    "    indices = len(number)\n",
    "    calculation = 0\n",
    "    for digits in number:\n",
    "        calculation += int(digits) **indices\n",
    "    if calculation == num:\n",
    "        return f'The number: {num} is armstrong'\n",
    "    else:\n",
    "        return f'The number: {num} is not armstrong'\n",
    "num = int(input(\"Enter a number: \"))\n",
    "print(armstrong(num))\n",
    "\n"
   ],
   "id": "96afffc4180ff627",
   "outputs": [
    {
     "name": "stdout",
     "output_type": "stream",
     "text": [
      "The number: 153 is armstrong\n"
     ]
    }
   ],
   "execution_count": 12
  },
  {
   "metadata": {},
   "cell_type": "markdown",
   "source": "17 Write a program to count number of vowels in a string.",
   "id": "77066309c5199272"
  },
  {
   "metadata": {
    "ExecuteTime": {
     "end_time": "2025-02-06T03:44:42.091782Z",
     "start_time": "2025-02-06T03:44:42.076133Z"
    }
   },
   "cell_type": "code",
   "source": [
    "def vowel_count(string12):\n",
    "    vowels = {\"a\", \"e\", \"i\", \"o\", \"u\", \"A\", \"E\", \"I\", \"O\", \"U\"}\n",
    "    count = 0\n",
    "    for char in string12:\n",
    "        if char in vowels:\n",
    "            count += 1\n",
    "    return count\n",
    "text = \"educationplot\"\n",
    "print(vowel_count(text))\n"
   ],
   "id": "cbd098fe9d75265f",
   "outputs": [
    {
     "name": "stdout",
     "output_type": "stream",
     "text": [
      "6\n"
     ]
    }
   ],
   "execution_count": 3
  },
  {
   "metadata": {},
   "cell_type": "markdown",
   "source": "18. Write a program to find smallest and largest number among 10 numbers stored in a list.",
   "id": "e5fcb98262d8de62"
  },
  {
   "metadata": {
    "ExecuteTime": {
     "end_time": "2025-02-06T04:17:44.481427Z",
     "start_time": "2025-02-06T04:17:44.456761Z"
    }
   },
   "cell_type": "code",
   "source": [
    "list_10 = random.sample(range(0,100),10)\n",
    "minimum_value = min(list_10)\n",
    "maximum_value = max(list_10)\n",
    "print(f\"Minimum value: {minimum_value} | Maximum Value {maximum_value}\")\n"
   ],
   "id": "27459061b5ee846d",
   "outputs": [
    {
     "name": "stdout",
     "output_type": "stream",
     "text": [
      "Minimum value: 16 | Maximum Value 90\n"
     ]
    }
   ],
   "execution_count": 19
  },
  {
   "metadata": {},
   "cell_type": "markdown",
   "source": "19 Write a program to count even numbers and odd numbers stored in a list",
   "id": "de006f0886a52671"
  },
  {
   "metadata": {
    "ExecuteTime": {
     "end_time": "2025-02-06T04:42:31.003893Z",
     "start_time": "2025-02-06T04:42:30.980045Z"
    }
   },
   "cell_type": "code",
   "source": [
    "def count_even_odd(numbers):\n",
    "    even = 0\n",
    "    odd = 0\n",
    "\n",
    "    for i in numbers:\n",
    "        if i % 2 == 0:\n",
    "            even += 1\n",
    "        else:\n",
    "            odd += 1\n",
    "    return even, odd\n",
    "\n",
    "numbers = random.sample(range(0,100),5)\n",
    "print(numbers)\n",
    "even, odd = count_even_odd(numbers)\n",
    "print(f'Even Count: {even}')\n",
    "print(f'Odd Count: {odd}')\n"
   ],
   "id": "c71deb1b13048980",
   "outputs": [
    {
     "name": "stdout",
     "output_type": "stream",
     "text": [
      "[72, 67, 44, 78, 10]\n",
      "Even Count: 4\n",
      "Odd Count: 1\n"
     ]
    }
   ],
   "execution_count": 29
  },
  {
   "metadata": {},
   "cell_type": "code",
   "outputs": [],
   "execution_count": null,
   "source": "",
   "id": "5f14a5770c7f1634"
  },
  {
   "metadata": {},
   "cell_type": "markdown",
   "source": "20. Write a program to find sum of two matrices.",
   "id": "823353c4484ec69f"
  },
  {
   "metadata": {
    "ExecuteTime": {
     "end_time": "2025-02-06T05:18:30.987914Z",
     "start_time": "2025-02-06T05:18:30.927887Z"
    }
   },
   "cell_type": "code",
   "source": [
    "def matrix_sum(a, b):\n",
    "    sum_1 = []\n",
    "    for i, ii in zip(a, b):\n",
    "        sum_1.append(i + ii)  # Sum corresponding elements\n",
    "    return f'Sum of Matrix a and b is {sum_1}'\n",
    "\n",
    "a = [1, 2, 1, 4]\n",
    "b = [5, 6, 6, 8]\n",
    "\n",
    "print(matrix_sum(a, b))\n"
   ],
   "id": "c14e35ddad4c70bb",
   "outputs": [
    {
     "name": "stdout",
     "output_type": "stream",
     "text": [
      "Sum of Matrix a and b is [6, 8, 7, 12]\n"
     ]
    }
   ],
   "execution_count": 34
  },
  {
   "metadata": {
    "ExecuteTime": {
     "end_time": "2025-02-06T05:19:24.750300Z",
     "start_time": "2025-02-06T05:19:24.743218Z"
    }
   },
   "cell_type": "code",
   "source": [
    "a = {1,2,3,4,5}\n",
    "b = {1,2,3,4,5}\n",
    "print(a,b)"
   ],
   "id": "b2b00740070ad0df",
   "outputs": [
    {
     "name": "stdout",
     "output_type": "stream",
     "text": [
      "{1, 2, 3, 4, 5} {1, 2, 3, 4, 5}\n"
     ]
    }
   ],
   "execution_count": 37
  },
  {
   "metadata": {
    "ExecuteTime": {
     "end_time": "2025-02-06T05:56:32.489013Z",
     "start_time": "2025-02-06T05:56:32.464867Z"
    }
   },
   "cell_type": "code",
   "source": [
    "a = [1,2,3,4,5]\n",
    "b = [1,2,3,4,5]\n",
    "print([(a[i], b[i]) for i in range(len(b))])\n"
   ],
   "id": "1171295888a188cc",
   "outputs": [
    {
     "name": "stdout",
     "output_type": "stream",
     "text": [
      "[(1, 1), (2, 2), (3, 3), (4, 4), (5, 5)]\n"
     ]
    }
   ],
   "execution_count": 44
  },
  {
   "metadata": {},
   "cell_type": "code",
   "outputs": [],
   "execution_count": null,
   "source": "",
   "id": "14a25bf63637f272"
  },
  {
   "metadata": {},
   "cell_type": "markdown",
   "source": "21 Write a program to find product of two matrices",
   "id": "f71ee426fb4ef56e"
  },
  {
   "metadata": {
    "ExecuteTime": {
     "end_time": "2025-02-06T06:00:58.532129Z",
     "start_time": "2025-02-06T06:00:58.521198Z"
    }
   },
   "cell_type": "code",
   "source": [
    "def matrict_product(a, b):\n",
    "    product = []\n",
    "    for i, ii in zip(a, b):\n",
    "        product.append(i*ii )\n",
    "    return f'Product of Matrix a and b is {product}'\n",
    "a = [1,2,3,4,5]\n",
    "b = [1,2,3,4,5]\n",
    "print(matrict_product(a, b))\n"
   ],
   "id": "6c95872ff4ea8210",
   "outputs": [
    {
     "name": "stdout",
     "output_type": "stream",
     "text": [
      "Product of Matrix a and b is [1, 4, 9, 16, 25]\n"
     ]
    }
   ],
   "execution_count": 46
  },
  {
   "metadata": {},
   "cell_type": "markdown",
   "source": "22 Write a program using list comprehension to find sum of only even numbers\n",
   "id": "465453aea3f721b9"
  },
  {
   "metadata": {
    "ExecuteTime": {
     "end_time": "2025-02-06T06:10:09.075753Z",
     "start_time": "2025-02-06T06:10:09.058299Z"
    }
   },
   "cell_type": "code",
   "source": [
    " def sum_even_only(numbers):\n",
    "     sum = 0\n",
    "     for i in numbers:\n",
    "         if i % 2 == 0:\n",
    "             sum += i\n",
    "     return f'Sum of Matrix a and b is {sum}'\n",
    " a = [1,2,3,4,5,6,7,8,9,8,8,8,8]\n",
    " print(sum_even_only(a))"
   ],
   "id": "56a88cf8cf8adea4",
   "outputs": [
    {
     "name": "stdout",
     "output_type": "stream",
     "text": [
      "Sum of Matrix a and b is 52\n"
     ]
    }
   ],
   "execution_count": 48
  },
  {
   "metadata": {},
   "cell_type": "markdown",
   "source": "23 Write a program using function with return type to find sum of two numbers",
   "id": "ac85c02efe0d2f8e"
  },
  {
   "metadata": {
    "ExecuteTime": {
     "end_time": "2025-02-06T06:37:09.878151Z",
     "start_time": "2025-02-06T06:37:09.867540Z"
    }
   },
   "cell_type": "code",
   "source": [
    "def two_number_sum(object):\n",
    "    sum_nbr  = 0\n",
    "    for i in object:\n",
    "        sum_nbr += i\n",
    "    return f'Sum: {sum_nbr}'\n",
    "a = [8,6]\n",
    "print(two_number_sum(a))\n"
   ],
   "id": "c9fc27237cb0ce0f",
   "outputs": [
    {
     "name": "stdout",
     "output_type": "stream",
     "text": [
      "Sum: 14\n"
     ]
    }
   ],
   "execution_count": 58
  },
  {
   "metadata": {},
   "cell_type": "markdown",
   "source": "24. Write a program using recursive function to find factorial of a number.",
   "id": "48d234d93e419e4e"
  },
  {
   "metadata": {
    "ExecuteTime": {
     "end_time": "2025-02-06T06:59:30.251089Z",
     "start_time": "2025-02-06T06:59:30.233891Z"
    }
   },
   "cell_type": "code",
   "source": [
    "def factorial(n):\n",
    "    if n<= 0:\n",
    "        return 1\n",
    "    else:\n",
    "        return n*factorial(n-1)\n",
    "n = int(input(\"Enter a number: \"))\n",
    "print(factorial(n))\n",
    "\n"
   ],
   "id": "412bbd75c5df03c",
   "outputs": [],
   "execution_count": 63
  },
  {
   "metadata": {},
   "cell_type": "markdown",
   "source": " 25. Write a program using recursive function to find nth Fibonacci number.",
   "id": "dda5d9e016177955"
  },
  {
   "metadata": {},
   "cell_type": "code",
   "outputs": [],
   "execution_count": null,
   "source": [
    "def Fibonacci(n):\n",
    "    if n <= 0:\n",
    "        return \"NA\"\n",
    "    elif n == 1:\n",
    "        return 0\n",
    "    elif n == 2:\n",
    "        return 1\n",
    "    else:\n",
    "        return Fibonacci(n-1) + Fibonacci(n-2)  # Correct Fibonacci formula\n",
    "\n",
    "I = 10\n",
    "print(Fibonacci(I))\n"
   ],
   "id": "ba03ec80cf41da83"
  },
  {
   "metadata": {},
   "cell_type": "markdown",
   "source": [
    "26 Create a class Rectangle containing instance variables length and breadth. The class also\n",
    "contains two instance methods area() and perimeter() to find area and perimeter of rectangles\n",
    "respectively. Use this class to find area and perimeter of two different rectangles."
   ],
   "id": "1c9860dec2144af7"
  },
  {
   "metadata": {
    "ExecuteTime": {
     "end_time": "2025-02-06T09:38:13.677679Z",
     "start_time": "2025-02-06T09:38:13.669296Z"
    }
   },
   "cell_type": "code",
   "source": [
    "class Rectangle:\n",
    "    def __init__(self, length, breadth):\n",
    "        self.length = length\n",
    "        self.breadth = breadth\n",
    "\n",
    "    def area(self):\n",
    "        return self.length * self.breadth\n",
    "    def perimeter(self):\n",
    "        return 2 * (self.length +self.breadth)\n",
    "\n",
    "    def __str__(self):\n",
    "        return f\"Area: {self.area()} | Perimeter: {self.perimeter()}\"\n",
    "\n",
    "if __name__ == \"__main__\":\n",
    "\n",
    "    # length = int(input(\"Enter a length: \"))\n",
    "    # breadth = int(input(\"Enter a breadth: \"))\n",
    "    length = [10,11]\n",
    "    breadth = [10,10]\n",
    "    # print(Rectangle(length, breadth))\n",
    "rectangles = [Rectangle(l,b) for l,b in zip(length,breadth)]\n",
    "for rect in rectangles:\n",
    "    print(rect)"
   ],
   "id": "9f79f31dc284c46a",
   "outputs": [
    {
     "name": "stdout",
     "output_type": "stream",
     "text": [
      "Area: 100 | Perimeter: 40\n",
      "Area: 110 | Perimeter: 42\n"
     ]
    }
   ],
   "execution_count": 82
  },
  {
   "metadata": {},
   "cell_type": "markdown",
   "source": [
    "27. Create a class Circle containing an instance variable radius. The class also contains two\n",
    "instance methods area() and circumference() to find area and circumference of circles\n",
    "respectively. Use this class to find area and circumference of two different circles. Use PI as a\n",
    "class variable."
   ],
   "id": "4a6ccca07e4779a7"
  },
  {
   "metadata": {
    "ExecuteTime": {
     "end_time": "2025-02-06T10:05:31.668290Z",
     "start_time": "2025-02-06T10:05:31.630119Z"
    }
   },
   "cell_type": "code",
   "source": [
    "class Circle:\n",
    "    def __init__(self, radius):\n",
    "        self.radius = radius\n",
    "        self.PI = 3.14\n",
    "    def area(self):\n",
    "        return self.radius * self.radius * self.PI\n",
    "    def perimeter(self):\n",
    "        return 2 * self.radius * self.PI\n",
    "    def __str__(self):\n",
    "        return f\"Area: {self.area():.2f} | Perimeter: {self.perimeter():.2f})\"\n",
    "\n",
    "if __name__ == \"__main__\":\n",
    "    radii = [10,11]\n",
    "    circle = [Circle(r) for r in radii]\n",
    "    for cir in circle:\n",
    "        print(cir)\n",
    "\n"
   ],
   "id": "70668aa500e069b3",
   "outputs": [
    {
     "name": "stdout",
     "output_type": "stream",
     "text": [
      "Area: 314.00 | Perimeter: 62.80)\n",
      "Area: 379.94 | Perimeter: 69.08)\n"
     ]
    }
   ],
   "execution_count": 94
  },
  {
   "metadata": {},
   "cell_type": "markdown",
   "source": [
    "28 Create a class Box with instance variables width, height and depth. The class also contains\n",
    "instance methods volume() and surface_area() to find volume and surface area of boxes\n",
    "respectively. Use this class to find volume and surface area of two different boxes."
   ],
   "id": "cf2171405c8da6e2"
  },
  {
   "metadata": {
    "ExecuteTime": {
     "end_time": "2025-02-06T10:23:42.734387Z",
     "start_time": "2025-02-06T10:23:42.672430Z"
    }
   },
   "cell_type": "code",
   "source": [
    "class Box:\n",
    "    def __init__(self, width, height, depth):\n",
    "        self.width = width\n",
    "        self.height = height\n",
    "        self.depth = depth\n",
    "    def surface_area(self): # 2(wh +dw + dh)\n",
    "        return 2* (self.width * self.height + self.depth * self.width + self.depth * self.height)\n",
    "    def volume(self):\n",
    "        return self.width * self.height * self.depth\n",
    "    def __str__(self):\n",
    "        return f\"Box: Width = {self.width}, Height = {self.height}, Depth = {self.depth} | Surface Area: {self.surface_area()} | Volume: {self.volume()}\"\n",
    "\n",
    "if __name__ == \"__main__\":\n",
    "    # width = int(input(\"Enter width: \"))\n",
    "    # height = int(input(\"Enter height: \"))\n",
    "    # depth = int(input(\"Enter depth: \"))\n",
    "    width = [10,11]\n",
    "    height = [10,11]\n",
    "    depth = [10,11]\n",
    "    box = [Box(w, h, d) for w,h,d in zip(width,height,depth)]\n",
    "    for box in box:\n",
    "        print(box)\n",
    "\n",
    "    # zip_obj = zip(width,height,depth)\n",
    "    # can be use reduce\n",
    "    reduce(Lambda = x, y, z: x*y*z, for x,y,z in zip_obj)\n",
    "    # @classmethod\n",
    "#     return cls()\n",
    "\n"
   ],
   "id": "ffc5660fcded7f57",
   "outputs": [
    {
     "name": "stdout",
     "output_type": "stream",
     "text": [
      "Box: Width = 10, Height = 10, Depth = 10 | Surface Area: 600 | Volume: 1000\n",
      "Box: Width = 11, Height = 11, Depth = 11 | Surface Area: 726 | Volume: 1331\n"
     ]
    }
   ],
   "execution_count": 98
  },
  {
   "metadata": {},
   "cell_type": "markdown",
   "source": [
    "29 Create a class Time with three instance variables hours, minutes, and seconds. Add instance\n",
    "methods display() to display the time in hh:mm:ss format and add() to add two time objects.\n",
    "Use this class to add and display two different time objects"
   ],
   "id": "30af9cd911442312"
  },
  {
   "metadata": {
    "ExecuteTime": {
     "end_time": "2025-02-06T11:00:42.384497Z",
     "start_time": "2025-02-06T11:00:42.358131Z"
    }
   },
   "cell_type": "code",
   "source": [
    "class Time:\n",
    "    def __init__(self, hour, minute, second):\n",
    "        self.hour = hour\n",
    "        self.minute = minute\n",
    "        self.second = second\n",
    "    def display(self):\n",
    "        return f\"{self.hour:02d}:{self.minute:02d}:{self.second:02d}\"\n",
    "    def add_hour(self):\n",
    "        return self.hour + (self.minute / 60) + (self.second / 3600)\n",
    "\n",
    "    def add_minute(self):\n",
    "        return (self.hour * 60) + self.minute + (self.second / 60)\n",
    "\n",
    "    def add_second(self):\n",
    "        return (self.hour * 3600) + (self.minute * 60) + self.second\n",
    "\n",
    "    def __str__(self):\n",
    "        return f\"Current Time: {self.display()} | Total Hour: {self.add_hour():.2f} | Total Minute: {self.add_minute():.2f} | Total Second: {self.add_second():.2f}\"\n",
    "\n",
    "if __name__ == \"__main__\":\n",
    "    hour = 4\n",
    "    minute = 19\n",
    "    second = 29\n",
    "    time = Time(hour, minute, second)\n",
    "    print(time)"
   ],
   "id": "8e5497be55a3f6c2",
   "outputs": [
    {
     "name": "stdout",
     "output_type": "stream",
     "text": [
      "Current Time: 04:19:29 | Total Hour: 4.32 | Total Minute: 259.48 | Total Second: 15569.00\n"
     ]
    }
   ],
   "execution_count": 123
  },
  {
   "metadata": {},
   "cell_type": "markdown",
   "source": [
    "30 Create a class Distance containing instance variables feet and inches. The class also contains\n",
    "instance methods add() and compare() to add and compare two distance objects respectively.\n",
    "Use this class to create two different distance objects and add and compare these two distance\n",
    "objects"
   ],
   "id": "61a9d2dfc8bf057e"
  },
  {
   "metadata": {
    "ExecuteTime": {
     "end_time": "2025-02-07T01:37:03.637968Z",
     "start_time": "2025-02-07T01:37:03.626695Z"
    }
   },
   "cell_type": "code",
   "source": [
    "class Distance:\n",
    "    def __init__(self, feet, inch):\n",
    "        self.feet = feet\n",
    "        self.inch = inch\n",
    "\n",
    "    def feet_to_inch(self):\n",
    "        return self.feet * 12\n",
    "\n",
    "    def inch_to_feet(self):\n",
    "        return self.inch / 12\n",
    "\n",
    "    def add_total_inch(self):\n",
    "       return self.feet_to_inch() + self.inch\n",
    "    def add_total_feet(self):\n",
    "        return self.feet + self.inch / 12\n",
    "\n",
    "    def compare(self):\n",
    "        total_inch_from_feet = self.feet_to_inch()\n",
    "        if total_inch_from_feet >= self.inch:\n",
    "            return f\"Feet data ({total_inch_from_feet} inches) is equal or greater than inch data ({self.inch} inches)\"\n",
    "        else:\n",
    "            return f\"Feet data ({total_inch_from_feet} inches) is less than inch data ({self.inch} inches)\"\n",
    "\n",
    "    def __str__(self):\n",
    "        return (\n",
    "            f\"Compare Data: {self.compare()} | \"\n",
    "            f\"Total Inches: {self.add_total_inch()} | \"\n",
    "            f\"Total Feet: {self.add_total_feet()}\"\n",
    "        )\n",
    "\n",
    "if __name__ == \"__main__\":\n",
    "    feet = 2\n",
    "    inch = 12\n",
    "    dist = Distance(feet, inch)\n",
    "    print(dist)"
   ],
   "id": "a1688d17bcf8a72e",
   "outputs": [
    {
     "name": "stdout",
     "output_type": "stream",
     "text": [
      "Compare Data: Feet data (24 inches) is equal or greater than inch data (12 inches) | Total Inches: 36 | Total Feet: 3.0\n"
     ]
    }
   ],
   "execution_count": 2
  },
  {
   "metadata": {},
   "cell_type": "markdown",
   "source": [
    "31 Create a class Student with instance variables name, roll_number, and marks in five subjects.\n",
    "Add three instance methods in this class to calculate total(), percentage(), and division() of the\n",
    "marks obtained by the students. Use this class to find total marks obtained, percentage, and\n",
    "division of five students."
   ],
   "id": "26886d97ca93c32e"
  },
  {
   "metadata": {
    "ExecuteTime": {
     "end_time": "2025-02-07T02:46:21.102363Z",
     "start_time": "2025-02-07T02:46:21.079794Z"
    }
   },
   "cell_type": "code",
   "source": [
    "class Student:\n",
    "    def __init__(self, name, roll_number, english, nepali, social, maths, science1):\n",
    "        self.name = name\n",
    "        self.roll_number = roll_number\n",
    "        self.english = english\n",
    "        self.nepali = nepali\n",
    "        self.social = social\n",
    "        self.maths = maths\n",
    "        self.science = science1\n",
    "        self. total_marks = 500\n",
    "\n",
    "    def total(self):\n",
    "        return self.english + self.nepali + self.social + self.maths + self.science\n",
    "\n",
    "    def percentage(self):\n",
    "        return self.total()/ self.total_marks * 100\n",
    "\n",
    "    def division(self):\n",
    "        if self.percentage() > 80:\n",
    "            return \"A\"\n",
    "        elif 60 < self.percentage() <80:\n",
    "            return \"B\"\n",
    "        elif 40 < self.percentage() <60:\n",
    "            return \"C\"\n",
    "        else:\n",
    "            return \"D\"\n",
    "    def __str__(self):\n",
    "        return f\"Total: {self.total()} | Percentage: {self.percentage()} | Division: {self.division()} \"\n",
    "if __name__ == \"__main__\":\n",
    "    name = 'Jhalak Paudel'\n",
    "    roll = 48\n",
    "    english = 60\n",
    "    nepali = 65\n",
    "    social = 80\n",
    "    maths = 85\n",
    "    science1 = 80\n",
    "\n",
    "    stu = Student(name, roll, english, nepali, social, maths, science1)\n",
    "    print(stu)\n",
    "\n",
    "\n",
    "\n",
    "\n",
    "\n",
    "\n",
    "\n",
    "\n"
   ],
   "id": "f891f6b76d456583",
   "outputs": [
    {
     "name": "stdout",
     "output_type": "stream",
     "text": [
      "Total: 370 | Percentage: 74.0 | Division: B \n"
     ]
    }
   ],
   "execution_count": 5
  },
  {
   "metadata": {},
   "cell_type": "markdown",
   "source": [
    "32 Create a parent class Bonus with instance variables sales_id and sales_amount. Add get_bonus\n",
    "method that calculates a salesperson’s bonus using the foumula bonus = sales * 0.05. Create a\n",
    "child class named PremiumBonus from Bonus. The child class’s get_premium_bonus()\n",
    "method should calculate the bonus using the formula bonus = sales * 0.05 + (sales – 2500) *\n",
    "0.01. Now, create an object of PremiumBonus class and use this object to find both bonus and\n",
    "premium bonus."
   ],
   "id": "e7fd4559f43fbb01"
  },
  {
   "metadata": {
    "ExecuteTime": {
     "end_time": "2025-02-10T08:52:21.717903Z",
     "start_time": "2025-02-10T08:52:21.693921Z"
    }
   },
   "cell_type": "code",
   "source": [
    "class Bonus:\n",
    "    def __init__(self, sales_id, sales_amount):\n",
    "        self.sales_id = sales_id\n",
    "        self.sales_amount = sales_amount\n",
    "\n",
    "    def get_bonus(self):\n",
    "        # Regular bonus is 5% of sales amount\n",
    "        return self.sales_amount * 0.05\n",
    "\n",
    "    def __str__(self):\n",
    "        return f\"Sales ID: {self.sales_id} | Bonus: {self.get_bonus():.2f}\"\n",
    "\n",
    "class PremiumBonus(Bonus):\n",
    "    def __init__(self, sales_id, sales_amount):\n",
    "        super().__init__(sales_id, sales_amount)\n",
    "\n",
    "    # def get_premium_bonus(self):\n",
    "    #     return [self.sales_amount*0.05 + (self.sales_amount - 2500)*0.01]\n",
    "\n",
    "    def get_premium_bonus(self):\n",
    "        if self.sales_amount >= 2500:\n",
    "            return [self.sales_amount*0.05 + (self.sales_amount - 2500)*0.01]\n",
    "        else:\n",
    "            return [self.get_bonus()]\n",
    "\n",
    "    def __str__(self):\n",
    "        return f\" Sales ID: {self.sales_id} | Bonus: {self.get_bonus() :.2f} | Premium Bonus: {self.get_premium_bonus()}\"\n",
    "\n",
    "if __name__ == \"__main__\":\n",
    "    sales_id = [1,2,3,4,5]\n",
    "    sales = [100,200,3000,400,5000]\n",
    "\n",
    "    bonus = [PremiumBonus(idd, sales) for idd, sales in zip(sales_id,sales)]\n",
    "    for bonus in bonus:\n",
    "        print(bonus)"
   ],
   "id": "aef9107a8c0cf1fc",
   "outputs": [
    {
     "name": "stdout",
     "output_type": "stream",
     "text": [
      " Sales ID: 1 | Bonus: 5.00 | Premium Bonus: [5.0]\n",
      " Sales ID: 2 | Bonus: 10.00 | Premium Bonus: [10.0]\n",
      " Sales ID: 3 | Bonus: 150.00 | Premium Bonus: [155.0]\n",
      " Sales ID: 4 | Bonus: 20.00 | Premium Bonus: [20.0]\n",
      " Sales ID: 5 | Bonus: 250.00 | Premium Bonus: [275.0]\n"
     ]
    }
   ],
   "execution_count": 5
  },
  {
   "metadata": {},
   "cell_type": "markdown",
   "source": "33 Overload + operator in Q.N.30 to add two distance objects.\n",
   "id": "3a8d7d5048a2197a"
  },
  {
   "metadata": {
    "ExecuteTime": {
     "end_time": "2025-02-14T02:54:22.536799Z",
     "start_time": "2025-02-14T02:54:22.528614Z"
    }
   },
   "cell_type": "code",
   "source": [
    "# overload + operator in 30 to add two distance object\n",
    "# 30 Create a class Distance containing instance variables feet and inches. The class also contains\n",
    "# instance methods add() and compare() to add and compare two distance objects respectively.\n",
    "# Use this class to create two different distance objects and add and compare these two distance\n",
    "# objects\n",
    "class Distance:\n",
    "    def __init__(self, feet, inch):\n",
    "        self.feet = feet\n",
    "        self.inch = inch\n",
    "\n",
    "    def feet_to_inch(self):\n",
    "        return self.feet * 12\n",
    "\n",
    "    def inch_to_feet(self):\n",
    "        return self.inch / 12\n",
    "\n",
    "    def add_total_inch(self):\n",
    "       return self.feet_to_inch() + self.inch\n",
    "    def add_total_feet(self):\n",
    "        return self.feet + self.inch / 12\n",
    "\n",
    "    def compare(self):\n",
    "        total_inch_from_feet = self.feet_to_inch()\n",
    "        if total_inch_from_feet >= self.inch:\n",
    "            return f\"Feet data ({total_inch_from_feet} inches) is equal or greater than inch data ({self.inch} inches)\"\n",
    "        else:\n",
    "            return f\"Feet data ({total_inch_from_feet} inches) is less than inch data ({self.inch} inches)\"\n",
    "\n",
    "    def __str__(self):\n",
    "        return (\n",
    "            f\"Compare Data: {self.compare()} | \"\n",
    "            f\"Total Inches: {self.add_total_inch()} | \"\n",
    "            f\"Total Feet: {self.add_total_feet()}\"\n",
    "        )\n",
    "\n",
    "class Distance2(Distance):\n",
    "    def __init__(self, feet, inch):\n",
    "        super().__init__(feet, inch)\n",
    "\n",
    "    def sum_two_object(self):\n",
    "        total_feet = self.feet + self.inch_to_feet()\n",
    "        return f'The sum of total feet and inch is {total_feet} feet'\n",
    "\n",
    "    def __str__(self):\n",
    "        return f\"{self.sum_two_object()}\"\n",
    "inch = 12\n",
    "feet = 2\n",
    "dist = Distance2(feet, inch)\n",
    "print(dist)\n",
    "\n",
    "\n",
    "\n",
    "\n"
   ],
   "id": "693ccb327989511c",
   "outputs": [
    {
     "name": "stdout",
     "output_type": "stream",
     "text": [
      "The sum of total feet and inch is 3.0 feet\n"
     ]
    }
   ],
   "execution_count": 14
  },
  {
   "metadata": {},
   "cell_type": "markdown",
   "source": [
    "34 Write a program that reads a text file and displays the following:\n",
    "a. Number of characters\n",
    "b. Number of vowels\n",
    "c. Number of consonants\n",
    "d. Number of words\n",
    "e. Number of lines\n"
   ],
   "id": "6a81cbc25363811f"
  },
  {
   "metadata": {
    "ExecuteTime": {
     "end_time": "2025-02-14T02:38:38.288083Z",
     "start_time": "2025-02-14T02:38:38.274056Z"
    }
   },
   "cell_type": "code",
   "source": [
    "def analyze_text_file(text_file):\n",
    "    num_characters = 0\n",
    "    num_words = 0\n",
    "    num_lines = 0\n",
    "    vowels = 'aeiou'\n",
    "    consonants = 'bcdfghjklmnpqrstvwxyz'\n",
    "    vowel_count = 0\n",
    "    consonant_count = 0\n",
    "    other_character = 0\n",
    "\n",
    "\n",
    "    for line in text_file:\n",
    "        line = line.lower()\n",
    "        num_lines += 1\n",
    "        num_characters += len(line)\n",
    "        num_words += len(line.split())\n",
    "\n",
    "        for char in line:\n",
    "            if char in vowels:\n",
    "                vowel_count += 1\n",
    "            elif char in consonants:\n",
    "                consonant_count += 1\n",
    "            else:\n",
    "                other_character += 1\n",
    "\n",
    "    return f\"Lines: {num_lines} | Characters: {num_characters} | Words: {num_words} | Vowels:{vowel_count}| Consonants: {consonant_count} | Other Characters:{other_character} |\"\n",
    "\n",
    "text_file = open(r\".\\Assessment\\assignment.txt\", \"r\")\n",
    "result = analyze_text_file(text_file)\n",
    "\n",
    "text_file.close()\n",
    "\n",
    "print(result)\n",
    "\n"
   ],
   "id": "7c6e3b03ce1ebcdc",
   "outputs": [
    {
     "name": "stdout",
     "output_type": "stream",
     "text": [
      "Lines: 7 | Characters: 699 | Words: 117 | Vowels:209| Consonants: 354 | Other Characters:136 |\n"
     ]
    }
   ],
   "execution_count": 4
  },
  {
   "metadata": {},
   "cell_type": "markdown",
   "source": [
    "35 Write a program that reads a text file and writes its output in another text file. The output\n",
    "should contain\n",
    "a. Number of letters\n",
    "b. Number of digits, and\n",
    "c. Number of other characters"
   ],
   "id": "da383c55adb10a12"
  },
  {
   "metadata": {
    "ExecuteTime": {
     "end_time": "2025-02-14T08:40:47.316704Z",
     "start_time": "2025-02-14T08:40:47.309861Z"
    }
   },
   "cell_type": "code",
   "source": [
    "# def read_text_file(file_read, file_write):\n",
    "#     letter_number = 0\n",
    "#     digit_number = 0\n",
    "#     character_number = 0\n",
    "#\n",
    "#     file_read = open(r'.\\Assessment\\assignment.txt', mode = \"r\")\n",
    "#     for line in file_read\n",
    "#       for char in line:\n",
    "#         if char.isalpha():  # Check if the character is a letter\n",
    "#             letter_number += 1\n",
    "#         elif char.isdigit():\n",
    "#             digit_number += 1\n",
    "#         else:\n",
    "#                 character_number += 1\n",
    "#     file_write = open(r'.\\Assessment\\dump.txt', mode = \"w\")\n",
    "#     file.write(f\"Number of letters: {letter_number}\\n\")\n",
    "#     file.write(f\"Number of digits: {digit_number}\\n\")\n",
    "#     file.write(f\"Number of other characters: {character_number}\\n\")\n",
    "#\n",
    "#     print(f\"Results have been written to {file_write}\")\n",
    "\n"
   ],
   "id": "877d83a54192d6f1",
   "outputs": [],
   "execution_count": 10
  },
  {
   "metadata": {
    "ExecuteTime": {
     "end_time": "2025-02-14T08:48:27.400746Z",
     "start_time": "2025-02-14T08:48:27.376275Z"
    }
   },
   "cell_type": "code",
   "source": [
    "def read_text_file(file_read_path, file_write_path):\n",
    "    letter_number = 0\n",
    "    digit_number = 0\n",
    "    character_number = 0\n",
    "\n",
    "    with open(file_read_path, mode=\"r\") as file_read:\n",
    "        for line in file_read:\n",
    "            for char in line:\n",
    "                if char.isalpha():\n",
    "                    letter_number += 1\n",
    "                elif char.isdigit():\n",
    "                    digit_number += 1\n",
    "                else:\n",
    "                    character_number += 1\n",
    "\n",
    "    with open(file_write_path, mode=\"w\") as file_write:\n",
    "        file_write.write(f\"Number of letters: {letter_number}\\n\")\n",
    "        file_write.write(f\"Number of digits: {digit_number}\\n\")\n",
    "        file_write.write(f\"Number of other characters: {character_number}\\n\")\n",
    "\n",
    "    print(f\"Results have been written to {file_write_path}\")\n",
    "\n",
    "# Example usage:\n",
    "file_read_path = r\".\\Assessment\\assignment.txt\"\n",
    "file_write_path = r\".\\Assessment\\dump.txt\"\n",
    "read_text_file(file_read_path, file_write_path)\n"
   ],
   "id": "d42f6752927f6ab0",
   "outputs": [
    {
     "name": "stdout",
     "output_type": "stream",
     "text": [
      "Results have been written to .\\Assessment\\dump.txt\n"
     ]
    }
   ],
   "execution_count": 16
  },
  {
   "metadata": {},
   "cell_type": "markdown",
   "source": "36 Write a program that reads the file containing texts and counts the number of whitespaces.\n",
   "id": "2ea34d981b22c4cc"
  },
  {
   "metadata": {
    "ExecuteTime": {
     "end_time": "2025-02-14T08:59:10.983923Z",
     "start_time": "2025-02-14T08:59:10.970368Z"
    }
   },
   "cell_type": "code",
   "source": [
    "def read_text_file1(file_path):\n",
    "    space_count = 0\n",
    "\n",
    "    with open(file_path, mode=\"r\") as file_read:\n",
    "        for line in file_read:\n",
    "            for char in line:\n",
    "                if char == ' ':\n",
    "                    space_count += 1\n",
    "\n",
    "    print(f\"Total Space Count in the Text is {space_count} spaces\")\n",
    "\n",
    "file_path = r\".\\Assessment\\assignment.txt\"\n",
    "read_text_file1(file_path)\n"
   ],
   "id": "10744109d76c3b78",
   "outputs": [
    {
     "name": "stdout",
     "output_type": "stream",
     "text": [
      "Total Space Count in the Text is 110 spaces\n"
     ]
    }
   ],
   "execution_count": 21
  },
  {
   "metadata": {},
   "cell_type": "markdown",
   "source": [
    "37 Write a program to find sum and average of numbers stored in a file. Create a separate file to\n",
    "write output."
   ],
   "id": "d3585cee8d2f1d7c"
  },
  {
   "metadata": {
    "ExecuteTime": {
     "end_time": "2025-02-17T02:20:14.226782Z",
     "start_time": "2025-02-17T02:20:14.201947Z"
    }
   },
   "cell_type": "code",
   "source": [
    "def read_text_file2(file_path):\n",
    "    sum1 = 0\n",
    "    digit_count = 0\n",
    "\n",
    "    with open(file_path, mode=\"r\") as file_read:\n",
    "        for line in file_read:\n",
    "            numbers = line.split(',')\n",
    "            for num in numbers:\n",
    "                num = num.strip()\n",
    "                if num.isdigit():\n",
    "                    sum1 += int(num)\n",
    "                    digit_count += 1\n",
    "\n",
    "    average = round(sum1 / digit_count if digit_count > 0 else 0, 2)\n",
    "\n",
    "    print(f\"The sum of given numbers is: {sum1}\")\n",
    "    print(f\"The average of given numbers is: {average}\")\n",
    "file_path = r\".\\Assessment\\Number.txt\"\n",
    "read_text_file2(file_path)\n"
   ],
   "id": "c709116558bac634",
   "outputs": [
    {
     "name": "stdout",
     "output_type": "stream",
     "text": [
      "The sum of given numbers is: 1626\n",
      "The average of given numbers is: 58.07\n"
     ]
    }
   ],
   "execution_count": 2
  },
  {
   "metadata": {},
   "cell_type": "code",
   "outputs": [],
   "execution_count": null,
   "source": "",
   "id": "a46733a20e62d82f"
  }
 ],
 "metadata": {
  "kernelspec": {
   "display_name": "Python 3",
   "language": "python",
   "name": "python3"
  },
  "language_info": {
   "codemirror_mode": {
    "name": "ipython",
    "version": 2
   },
   "file_extension": ".py",
   "mimetype": "text/x-python",
   "name": "python",
   "nbconvert_exporter": "python",
   "pygments_lexer": "ipython2",
   "version": "2.7.6"
  }
 },
 "nbformat": 4,
 "nbformat_minor": 5
}
